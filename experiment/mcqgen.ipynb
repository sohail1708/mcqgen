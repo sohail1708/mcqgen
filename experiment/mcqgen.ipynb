{
 "cells": [
  {
   "cell_type": "code",
   "execution_count": 1,
   "metadata": {},
   "outputs": [],
   "source": [
    "import os\n",
    "import json\n",
    "import pandas as pd\n",
    "import traceback\n",
    "import dotenv"
   ]
  },
  {
   "cell_type": "code",
   "execution_count": 5,
   "metadata": {},
   "outputs": [
    {
     "data": {
      "text/plain": [
       "True"
      ]
     },
     "execution_count": 5,
     "metadata": {},
     "output_type": "execute_result"
    }
   ],
   "source": [
    "from langchain.chat_models import ChatOpenAI\n",
    "from dotenv import load_dotenv\n",
    "load_dotenv()"
   ]
  },
  {
   "cell_type": "code",
   "execution_count": 6,
   "metadata": {},
   "outputs": [],
   "source": [
    "KEY = os.getenv(\"OPENAI_API_KEY\")"
   ]
  },
  {
   "cell_type": "code",
   "execution_count": 13,
   "metadata": {},
   "outputs": [],
   "source": [
    "llm = ChatOpenAI(openai_api_key = KEY, model_name = 'gpt-3.5-turbo', temperature=0.5)"
   ]
  },
  {
   "cell_type": "code",
   "execution_count": 8,
   "metadata": {},
   "outputs": [],
   "source": [
    "from langchain.llms import OpenAI\n",
    "from langchain.prompts import PromptTemplate\n",
    "from langchain.chains import LLMChain\n",
    "from langchain.chains import SequentialChain\n",
    "from langchain.callbacks import get_openai_callback\n",
    "import PyPDF2"
   ]
  },
  {
   "cell_type": "code",
   "execution_count": 9,
   "metadata": {},
   "outputs": [],
   "source": [
    "RESPONSE_JSON = {\n",
    "    \"1\": {\n",
    "        \"mcq\": \"multiple choice question\",\n",
    "        \"options\": {\n",
    "            \"a\": \"choice here\",\n",
    "            \"b\": \"choice here\",\n",
    "            \"c\": \"choice here\",\n",
    "            \"d\": \"choice here\",\n",
    "        },\n",
    "        \"correct\": \"correct answer\",\n",
    "    },\n",
    "    \"2\": {\n",
    "        \"mcq\": \"multiple choice question\",\n",
    "        \"options\": {\n",
    "            \"a\": \"choice here\",\n",
    "            \"b\": \"choice here\",\n",
    "            \"c\": \"choice here\",\n",
    "            \"d\": \"choice here\",\n",
    "        },\n",
    "        \"correct\": \"correct answer\",\n",
    "    },\n",
    "    \"3\": {\n",
    "        \"mcq\": \"multiple choice question\",\n",
    "        \"options\": {\n",
    "            \"a\": \"choice here\",\n",
    "            \"b\": \"choice here\",\n",
    "            \"c\": \"choice here\",\n",
    "            \"d\": \"choice here\",\n",
    "        },\n",
    "        \"correct\": \"correct answer\",\n",
    "    },\n",
    "}"
   ]
  },
  {
   "cell_type": "code",
   "execution_count": 10,
   "metadata": {},
   "outputs": [],
   "source": [
    "TEMPLATE=\"\"\"\n",
    "Text:{text}\n",
    "You are an expert MCQ maker. Given the above text, it is your job to \\\n",
    "create a quiz  of {number} multiple choice questions for {subject} students in {tone} tone. \n",
    "Make sure the questions are not repeated and check all the questions to be conforming the text as well.\n",
    "Make sure to format your response like  RESPONSE_JSON below  and use it as a guide. \\\n",
    "Ensure to make {number} MCQs\n",
    "### RESPONSE_JSON\n",
    "{response_json}\n",
    "\n",
    "\"\"\""
   ]
  },
  {
   "cell_type": "code",
   "execution_count": 11,
   "metadata": {},
   "outputs": [],
   "source": [
    "quiz_generation_prompt = PromptTemplate(\n",
    "    input_variables= [\"text\", \"number\", \"subject\", \"tone\", \"response_json\"],\n",
    "    template= TEMPLATE\n",
    ")"
   ]
  },
  {
   "cell_type": "code",
   "execution_count": 14,
   "metadata": {},
   "outputs": [],
   "source": [
    "quiz_chain=LLMChain(llm=llm, prompt=quiz_generation_prompt, output_key=\"quiz\", verbose=True)"
   ]
  },
  {
   "cell_type": "code",
   "execution_count": 15,
   "metadata": {},
   "outputs": [],
   "source": [
    "TEMPLATE2=\"\"\"\n",
    "You are an expert english grammarian and writer. Given a Multiple Choice Quiz for {subject} students.\\\n",
    "You need to evaluate the complexity of the question and give a complete analysis of the quiz. Only use at max 50 words for complexity analysis. \n",
    "if the quiz is not at per with the cognitive and analytical abilities of the students,\\\n",
    "update the quiz questions which needs to be changed and change the tone such that it perfectly fits the student abilities\n",
    "Quiz_MCQs:\n",
    "{quiz}\n",
    "\n",
    "Check from an expert English Writer of the above quiz:\n",
    "\"\"\""
   ]
  },
  {
   "cell_type": "code",
   "execution_count": 16,
   "metadata": {},
   "outputs": [],
   "source": [
    "quiz_evaluation_prompt=PromptTemplate(input_variables=[\"subject\", \"quiz\"], template=TEMPLATE2)"
   ]
  },
  {
   "cell_type": "code",
   "execution_count": 17,
   "metadata": {},
   "outputs": [],
   "source": [
    "review_chain=LLMChain(llm=llm, prompt=quiz_evaluation_prompt, output_key=\"review\", verbose=True)"
   ]
  },
  {
   "cell_type": "code",
   "execution_count": 18,
   "metadata": {},
   "outputs": [],
   "source": [
    "generate_evaluate_chain=SequentialChain(chains=[quiz_chain, review_chain], input_variables=[\"text\", \"number\", \"subject\", \"tone\", \"response_json\"],\n",
    "                                        output_variables=[\"quiz\", \"review\"], verbose=True,)"
   ]
  },
  {
   "cell_type": "code",
   "execution_count": 19,
   "metadata": {},
   "outputs": [],
   "source": [
    "file_path = '/Users/sohailshaik/mcqgen/data.txt'"
   ]
  },
  {
   "cell_type": "code",
   "execution_count": 20,
   "metadata": {},
   "outputs": [],
   "source": [
    "with open(file_path, 'r') as file:\n",
    "    TEXT = file.read()"
   ]
  },
  {
   "cell_type": "code",
   "execution_count": 22,
   "metadata": {},
   "outputs": [
    {
     "data": {
      "text/plain": [
       "'{\"1\": {\"mcq\": \"multiple choice question\", \"options\": {\"a\": \"choice here\", \"b\": \"choice here\", \"c\": \"choice here\", \"d\": \"choice here\"}, \"correct\": \"correct answer\"}, \"2\": {\"mcq\": \"multiple choice question\", \"options\": {\"a\": \"choice here\", \"b\": \"choice here\", \"c\": \"choice here\", \"d\": \"choice here\"}, \"correct\": \"correct answer\"}, \"3\": {\"mcq\": \"multiple choice question\", \"options\": {\"a\": \"choice here\", \"b\": \"choice here\", \"c\": \"choice here\", \"d\": \"choice here\"}, \"correct\": \"correct answer\"}}'"
      ]
     },
     "execution_count": 22,
     "metadata": {},
     "output_type": "execute_result"
    }
   ],
   "source": [
    "#serealizing the python disctionary into JSON\n",
    "\n",
    "json.dumps(RESPONSE_JSON)"
   ]
  },
  {
   "cell_type": "code",
   "execution_count": 23,
   "metadata": {},
   "outputs": [],
   "source": [
    "NUMBER=5 \n",
    "SUBJECT=\"bitcoin\"\n",
    "TONE=\"simple\""
   ]
  },
  {
   "cell_type": "code",
   "execution_count": 24,
   "metadata": {},
   "outputs": [
    {
     "name": "stdout",
     "output_type": "stream",
     "text": [
      "\n",
      "\n",
      "\u001b[1m> Entering new SequentialChain chain...\u001b[0m\n",
      "\n",
      "\n",
      "\u001b[1m> Entering new LLMChain chain...\u001b[0m\n",
      "Prompt after formatting:\n",
      "\u001b[32;1m\u001b[1;3m\n",
      "Text:Bitcoin (abbreviation: BTC[a]; sign: ₿) is the first decentralized cryptocurrency. Nodes in the peer-to-peer bitcoin network verify transactions through cryptography and record them in a public distributed ledger, called a blockchain, without central oversight. Consensus between nodes is achieved using a computationally intensive process based on proof of work, called mining, that requires increasing quantities of electricity and guarantees the security of the bitcoin blockchain.[5]\n",
      "Based on a free market ideology, bitcoin was invented in 2008 by Satoshi Nakamoto, an unknown person.[6] Use of bitcoin as a currency began in 2009,[7] with the release of its open-source implementation.[8]: ch. 1  In 2021, El Salvador adopted it as legal tender.[4] Bitcoin is currently used more as a store of value and less as a medium of exchange or unit of account. It is mostly seen as an investment and has been described by many scholars as an economic bubble.[9] As bitcoin is pseudonymous, its use by criminals has attracted the attention of regulators, leading to its ban by several countries as of 2021.[10]\n",
      "Background\n",
      "Before bitcoin, several digital cash technologies were released, starting with David Chaum's ecash in the 1980s.[11] The idea that solutions to computational puzzles could have some value was first proposed by cryptographers Cynthia Dwork and Moni Naor in 1992.[11] The concept was independently rediscovered by Adam Back who developed Hashcash, a proof-of-work scheme for spam control in 1997.[11] The first proposals for distributed digital scarcity-based cryptocurrencies came from cypherpunks Wei Dai (b-money) and Nick Szabo (bit gold) in 1998.[12] In 2004, Hal Finney developed the first currency based on reusable proof of work.[13] These various attempts were not successful:[11] Chaum's concept required centralized control and no banks wanted to sign on, Hashcash had no protection against double-spending, while b-money and bit gold were not resistant to Sybil attacks.[11]\n",
      "2008–2009: Creation\n",
      "Bitcoin logos made by Satoshi Nakamoto in 2009 (left) and 2010 (right) depict bitcoins as gold tokens.\n",
      "The domain name bitcoin.org was registered on 18 August 2008.[14] On 31 October 2008, a link to a white paper authored by Satoshi Nakamoto titled Bitcoin: A Peer-to-Peer Electronic Cash System was posted to a cryptography mailing list.[15] Nakamoto implemented the bitcoin software as open-source code and released it in January 2009.[7] Nakamoto's identity remains unknown.[6] All individual components of bitcoin originated in earlier academic literature.[11] Nakamoto's innovation was their complex interplay resulting in the first decentralized, Sybil resistant, Byzantine fault tolerant digital cash system, that would eventually be referred to as the first blockchain.[11][16] Nakamoto's paper was not peer reviewed and was initially ignored by academics, who argued that it could not work, based on theoretical models, even though it was working in practice.[11]\n",
      "On 3 January 2009, the bitcoin network was created when Nakamoto mined the starting block of the chain, known as the genesis block.[17] Embedded in this block was the text \"The Times 03/Jan/2009 Chancellor on brink of second bailout for banks\", which is the date and headline of an issue of The Times newspaper.[7] Nine days later, Hal Finney received the first bitcoin transaction: ten bitcoins from Nakamoto.[18] Wei Dai and Nick Szabo were also early supporters.[17] In 2010, the first known commercial transaction using bitcoin occurred when programmer Laszlo Hanyecz bought two Papa John's pizzas for ₿10,000.[19]\n",
      "2020–present\n",
      "Bitcoin price in US dollars\n",
      "In 2020, some major companies and institutions started to acquire bitcoin: MicroStrategy invested $250 million in bitcoin as a treasury reserve asset,[40] Square, Inc., $50 million,[41] and MassMutual, $100 million.[42] In November 2020, PayPal added support for bitcoin in the US.[43]\n",
      "In February 2021, Bitcoin's market capitalization reached $1 trillion for the first time.[44] In November 2021, the Taproot soft-fork upgrade was activated, adding support for Schnorr signatures, improved functionality of smart contracts and Lightning Network.[45] Before, Bitcoin only used a custom elliptic curve with the ECDSA algorithm to produce signatures.[46]: 101  In September 2021, Bitcoin became legal tender in El Salvador, alongside the US dollar.[4] In October 2021, the first bitcoin futures ETF, called BITO, from ProShares was approved by the SEC and listed on the Chicago Mercantile Exchange.[47]\n",
      "In May and June 2022, the bitcoin price fell following the collapses of TerraUSD, a stablecoin,[48] and the Celsius Network, a cryptocurrency loan company.[49][50]\n",
      "In 2023, ordinals, non-fungible tokens (NFTs) on Bitcoin, went live.[51] In January 2024, the first 11 US spot bitcoin exchange-traded funds (ETFs) began trading, offering direct exposure to bitcoin for the first time on American stock exchanges.[52][53]\n",
      "You are an expert MCQ maker. Given the above text, it is your job to create a quiz  of 5 multiple choice questions for bitcoin students in simple tone. \n",
      "Make sure the questions are not repeated and check all the questions to be conforming the text as well.\n",
      "Make sure to format your response like  RESPONSE_JSON below  and use it as a guide. Ensure to make 5 MCQs\n",
      "### RESPONSE_JSON\n",
      "{\"1\": {\"mcq\": \"multiple choice question\", \"options\": {\"a\": \"choice here\", \"b\": \"choice here\", \"c\": \"choice here\", \"d\": \"choice here\"}, \"correct\": \"correct answer\"}, \"2\": {\"mcq\": \"multiple choice question\", \"options\": {\"a\": \"choice here\", \"b\": \"choice here\", \"c\": \"choice here\", \"d\": \"choice here\"}, \"correct\": \"correct answer\"}, \"3\": {\"mcq\": \"multiple choice question\", \"options\": {\"a\": \"choice here\", \"b\": \"choice here\", \"c\": \"choice here\", \"d\": \"choice here\"}, \"correct\": \"correct answer\"}}\n",
      "\n",
      "\u001b[0m\n",
      "\n",
      "\u001b[1m> Finished chain.\u001b[0m\n",
      "\n",
      "\n",
      "\u001b[1m> Entering new LLMChain chain...\u001b[0m\n",
      "Prompt after formatting:\n",
      "\u001b[32;1m\u001b[1;3m\n",
      "You are an expert english grammarian and writer. Given a Multiple Choice Quiz for bitcoin students.You need to evaluate the complexity of the question and give a complete analysis of the quiz. Only use at max 50 words for complexity analysis. \n",
      "if the quiz is not at per with the cognitive and analytical abilities of the students,update the quiz questions which needs to be changed and change the tone such that it perfectly fits the student abilities\n",
      "Quiz_MCQs:\n",
      "\n",
      "{\n",
      "    \"1\": {\n",
      "        \"mcq\": \"When was the domain name bitcoin.org registered?\",\n",
      "        \"options\": {\n",
      "            \"a\": \"2008\",\n",
      "            \"b\": \"2009\",\n",
      "            \"c\": \"2010\",\n",
      "            \"d\": \"2011\"\n",
      "        },\n",
      "        \"correct\": \"a\"\n",
      "    },\n",
      "    \"2\": {\n",
      "        \"mcq\": \"Who is the unknown person who invented Bitcoin in 2008?\",\n",
      "        \"options\": {\n",
      "            \"a\": \"David Chaum\",\n",
      "            \"b\": \"Satoshi Nakamoto\",\n",
      "            \"c\": \"Adam Back\",\n",
      "            \"d\": \"Hal Finney\"\n",
      "        },\n",
      "        \"correct\": \"b\"\n",
      "    },\n",
      "    \"3\": {\n",
      "        \"mcq\": \"Which major company invested $250 million in bitcoin as a treasury reserve asset in 2020?\",\n",
      "        \"options\": {\n",
      "            \"a\": \"Square, Inc.\",\n",
      "            \"b\": \"MassMutual\",\n",
      "            \"c\": \"MicroStrategy\",\n",
      "            \"d\": \"PayPal\"\n",
      "        },\n",
      "        \"correct\": \"c\"\n",
      "    },\n",
      "    \"4\": {\n",
      "        \"mcq\": \"What was the headline embedded in the genesis block of the Bitcoin network?\",\n",
      "        \"options\": {\n",
      "            \"a\": \"Bitcoin: A Peer-to-Peer Electronic Cash System\",\n",
      "            \"b\": \"Chancellor on brink of second bailout for banks\",\n",
      "            \"c\": \"Bitcoin logos made by Satoshi Nakamoto\",\n",
      "            \"d\": \"The Times 03/Jan/2009\"\n",
      "        },\n",
      "        \"correct\": \"b\"\n",
      "    },\n",
      "    \"5\": {\n",
      "        \"mcq\": \"In which year did Bitcoin's market capitalization reach $1 trillion for the first time?\",\n",
      "        \"options\": {\n",
      "            \"a\": \"2019\",\n",
      "            \"b\": \"2020\",\n",
      "            \"c\": \"2021\",\n",
      "            \"d\": \"2022\"\n",
      "        },\n",
      "        \"correct\": \"c\"\n",
      "    }\n",
      "}\n",
      "\n",
      "Check from an expert English Writer of the above quiz:\n",
      "\u001b[0m\n",
      "\n",
      "\u001b[1m> Finished chain.\u001b[0m\n",
      "\n",
      "\u001b[1m> Finished chain.\u001b[0m\n"
     ]
    }
   ],
   "source": [
    "#https://python.langchain.com/docs/modules/model_io/llms/token_usage_tracking\n",
    "\n",
    "#How to setup Token Usage Tracking in LangChain\n",
    "with get_openai_callback() as cb:\n",
    "    response=generate_evaluate_chain(\n",
    "        {\n",
    "            \"text\": TEXT,\n",
    "            \"number\": NUMBER,\n",
    "            \"subject\":SUBJECT,\n",
    "            \"tone\": TONE,\n",
    "            \"response_json\": json.dumps(RESPONSE_JSON)\n",
    "        }\n",
    "        )"
   ]
  },
  {
   "cell_type": "code",
   "execution_count": 25,
   "metadata": {},
   "outputs": [
    {
     "name": "stdout",
     "output_type": "stream",
     "text": [
      "Total Tokens:2337\n",
      "Prompt Tokens:1882\n",
      "Completion Tokens:455\n",
      "Total Cost:0.003733\n"
     ]
    }
   ],
   "source": [
    "print(f\"Total Tokens:{cb.total_tokens}\")\n",
    "print(f\"Prompt Tokens:{cb.prompt_tokens}\")\n",
    "print(f\"Completion Tokens:{cb.completion_tokens}\")\n",
    "print(f\"Total Cost:{cb.total_cost}\")"
   ]
  },
  {
   "cell_type": "code",
   "execution_count": 26,
   "metadata": {},
   "outputs": [
    {
     "data": {
      "text/plain": [
       "{'text': 'Bitcoin (abbreviation: BTC[a]; sign: ₿) is the first decentralized cryptocurrency. Nodes in the peer-to-peer bitcoin network verify transactions through cryptography and record them in a public distributed ledger, called a blockchain, without central oversight. Consensus between nodes is achieved using a computationally intensive process based on proof of work, called mining, that requires increasing quantities of electricity and guarantees the security of the bitcoin blockchain.[5]\\nBased on a free market ideology, bitcoin was invented in 2008 by Satoshi Nakamoto, an unknown person.[6] Use of bitcoin as a currency began in 2009,[7] with the release of its open-source implementation.[8]:\\u200ach. 1\\u200a In 2021, El Salvador adopted it as legal tender.[4] Bitcoin is currently used more as a store of value and less as a medium of exchange or unit of account. It is mostly seen as an investment and has been described by many scholars as an economic bubble.[9] As bitcoin is pseudonymous, its use by criminals has attracted the attention of regulators, leading to its ban by several countries as of 2021.[10]\\nBackground\\nBefore bitcoin, several digital cash technologies were released, starting with David Chaum\\'s ecash in the 1980s.[11] The idea that solutions to computational puzzles could have some value was first proposed by cryptographers Cynthia Dwork and Moni Naor in 1992.[11] The concept was independently rediscovered by Adam Back who developed Hashcash, a proof-of-work scheme for spam control in 1997.[11] The first proposals for distributed digital scarcity-based cryptocurrencies came from cypherpunks Wei Dai (b-money) and Nick Szabo (bit gold) in 1998.[12] In 2004, Hal Finney developed the first currency based on reusable proof of work.[13] These various attempts were not successful:[11] Chaum\\'s concept required centralized control and no banks wanted to sign on, Hashcash had no protection against double-spending, while b-money and bit gold were not resistant to Sybil attacks.[11]\\n2008–2009: Creation\\nBitcoin logos made by Satoshi Nakamoto in 2009 (left) and 2010 (right) depict bitcoins as gold tokens.\\nThe domain name bitcoin.org was registered on 18 August 2008.[14] On 31 October 2008, a link to a white paper authored by Satoshi Nakamoto titled Bitcoin: A Peer-to-Peer Electronic Cash System was posted to a cryptography mailing list.[15] Nakamoto implemented the bitcoin software as open-source code and released it in January 2009.[7] Nakamoto\\'s identity remains unknown.[6] All individual components of bitcoin originated in earlier academic literature.[11] Nakamoto\\'s innovation was their complex interplay resulting in the first decentralized, Sybil resistant, Byzantine fault tolerant digital cash system, that would eventually be referred to as the first blockchain.[11][16] Nakamoto\\'s paper was not peer reviewed and was initially ignored by academics, who argued that it could not work, based on theoretical models, even though it was working in practice.[11]\\nOn 3 January 2009, the bitcoin network was created when Nakamoto mined the starting block of the chain, known as the genesis block.[17] Embedded in this block was the text \"The Times 03/Jan/2009 Chancellor on brink of second bailout for banks\", which is the date and headline of an issue of The Times newspaper.[7] Nine days later, Hal Finney received the first bitcoin transaction: ten bitcoins from Nakamoto.[18] Wei Dai and Nick Szabo were also early supporters.[17] In 2010, the first known commercial transaction using bitcoin occurred when programmer Laszlo Hanyecz bought two Papa John\\'s pizzas for ₿10,000.[19]\\n2020–present\\nBitcoin price in US dollars\\nIn 2020, some major companies and institutions started to acquire bitcoin: MicroStrategy invested $250 million in bitcoin as a treasury reserve asset,[40] Square, Inc., $50 million,[41] and MassMutual, $100 million.[42] In November 2020, PayPal added support for bitcoin in the US.[43]\\nIn February 2021, Bitcoin\\'s market capitalization reached $1 trillion for the first time.[44] In November 2021, the Taproot soft-fork upgrade was activated, adding support for Schnorr signatures, improved functionality of smart contracts and Lightning Network.[45] Before, Bitcoin only used a custom elliptic curve with the ECDSA algorithm to produce signatures.[46]:\\u200a101\\u200a In September 2021, Bitcoin became legal tender in El Salvador, alongside the US dollar.[4] In October 2021, the first bitcoin futures ETF, called BITO, from ProShares was approved by the SEC and listed on the Chicago Mercantile Exchange.[47]\\nIn May and June 2022, the bitcoin price fell following the collapses of TerraUSD, a stablecoin,[48] and the Celsius Network, a cryptocurrency loan company.[49][50]\\nIn 2023, ordinals, non-fungible tokens (NFTs) on Bitcoin, went live.[51] In January 2024, the first 11 US spot bitcoin exchange-traded funds (ETFs) began trading, offering direct exposure to bitcoin for the first time on American stock exchanges.[52][53]',\n",
       " 'number': 5,\n",
       " 'subject': 'bitcoin',\n",
       " 'tone': 'simple',\n",
       " 'response_json': '{\"1\": {\"mcq\": \"multiple choice question\", \"options\": {\"a\": \"choice here\", \"b\": \"choice here\", \"c\": \"choice here\", \"d\": \"choice here\"}, \"correct\": \"correct answer\"}, \"2\": {\"mcq\": \"multiple choice question\", \"options\": {\"a\": \"choice here\", \"b\": \"choice here\", \"c\": \"choice here\", \"d\": \"choice here\"}, \"correct\": \"correct answer\"}, \"3\": {\"mcq\": \"multiple choice question\", \"options\": {\"a\": \"choice here\", \"b\": \"choice here\", \"c\": \"choice here\", \"d\": \"choice here\"}, \"correct\": \"correct answer\"}}',\n",
       " 'quiz': '\\n{\\n    \"1\": {\\n        \"mcq\": \"When was the domain name bitcoin.org registered?\",\\n        \"options\": {\\n            \"a\": \"2008\",\\n            \"b\": \"2009\",\\n            \"c\": \"2010\",\\n            \"d\": \"2011\"\\n        },\\n        \"correct\": \"a\"\\n    },\\n    \"2\": {\\n        \"mcq\": \"Who is the unknown person who invented Bitcoin in 2008?\",\\n        \"options\": {\\n            \"a\": \"David Chaum\",\\n            \"b\": \"Satoshi Nakamoto\",\\n            \"c\": \"Adam Back\",\\n            \"d\": \"Hal Finney\"\\n        },\\n        \"correct\": \"b\"\\n    },\\n    \"3\": {\\n        \"mcq\": \"Which major company invested $250 million in bitcoin as a treasury reserve asset in 2020?\",\\n        \"options\": {\\n            \"a\": \"Square, Inc.\",\\n            \"b\": \"MassMutual\",\\n            \"c\": \"MicroStrategy\",\\n            \"d\": \"PayPal\"\\n        },\\n        \"correct\": \"c\"\\n    },\\n    \"4\": {\\n        \"mcq\": \"What was the headline embedded in the genesis block of the Bitcoin network?\",\\n        \"options\": {\\n            \"a\": \"Bitcoin: A Peer-to-Peer Electronic Cash System\",\\n            \"b\": \"Chancellor on brink of second bailout for banks\",\\n            \"c\": \"Bitcoin logos made by Satoshi Nakamoto\",\\n            \"d\": \"The Times 03/Jan/2009\"\\n        },\\n        \"correct\": \"b\"\\n    },\\n    \"5\": {\\n        \"mcq\": \"In which year did Bitcoin\\'s market capitalization reach $1 trillion for the first time?\",\\n        \"options\": {\\n            \"a\": \"2019\",\\n            \"b\": \"2020\",\\n            \"c\": \"2021\",\\n            \"d\": \"2022\"\\n        },\\n        \"correct\": \"c\"\\n    }\\n}',\n",
       " 'review': 'The complexity of the quiz questions is suitable for intermediate-level bitcoin students. The questions cover a range of topics related to Bitcoin history and current events. The language used is clear and concise, making it accessible to the target audience. No changes are needed.'}"
      ]
     },
     "execution_count": 26,
     "metadata": {},
     "output_type": "execute_result"
    }
   ],
   "source": [
    "response"
   ]
  },
  {
   "cell_type": "code",
   "execution_count": 27,
   "metadata": {},
   "outputs": [],
   "source": [
    "quiz=response.get(\"quiz\")"
   ]
  },
  {
   "cell_type": "code",
   "execution_count": 29,
   "metadata": {},
   "outputs": [],
   "source": [
    "quiz=json.loads(quiz)"
   ]
  },
  {
   "cell_type": "code",
   "execution_count": 30,
   "metadata": {},
   "outputs": [],
   "source": [
    "quiz_table_data = []\n",
    "for key, value in quiz.items():\n",
    "    mcq = value[\"mcq\"]\n",
    "    options = \" | \".join(\n",
    "        [\n",
    "            f\"{option}: {option_value}\"\n",
    "            for option, option_value in value[\"options\"].items()\n",
    "            ]\n",
    "        )\n",
    "    correct = value[\"correct\"]\n",
    "    quiz_table_data.append({\"MCQ\": mcq, \"Choices\": options, \"Correct\": correct})"
   ]
  },
  {
   "cell_type": "code",
   "execution_count": 31,
   "metadata": {},
   "outputs": [
    {
     "data": {
      "text/plain": [
       "[{'MCQ': 'When was the domain name bitcoin.org registered?',\n",
       "  'Choices': 'a: 2008 | b: 2009 | c: 2010 | d: 2011',\n",
       "  'Correct': 'a'},\n",
       " {'MCQ': 'Who is the unknown person who invented Bitcoin in 2008?',\n",
       "  'Choices': 'a: David Chaum | b: Satoshi Nakamoto | c: Adam Back | d: Hal Finney',\n",
       "  'Correct': 'b'},\n",
       " {'MCQ': 'Which major company invested $250 million in bitcoin as a treasury reserve asset in 2020?',\n",
       "  'Choices': 'a: Square, Inc. | b: MassMutual | c: MicroStrategy | d: PayPal',\n",
       "  'Correct': 'c'},\n",
       " {'MCQ': 'What was the headline embedded in the genesis block of the Bitcoin network?',\n",
       "  'Choices': 'a: Bitcoin: A Peer-to-Peer Electronic Cash System | b: Chancellor on brink of second bailout for banks | c: Bitcoin logos made by Satoshi Nakamoto | d: The Times 03/Jan/2009',\n",
       "  'Correct': 'b'},\n",
       " {'MCQ': \"In which year did Bitcoin's market capitalization reach $1 trillion for the first time?\",\n",
       "  'Choices': 'a: 2019 | b: 2020 | c: 2021 | d: 2022',\n",
       "  'Correct': 'c'}]"
      ]
     },
     "execution_count": 31,
     "metadata": {},
     "output_type": "execute_result"
    }
   ],
   "source": [
    "quiz_table_data"
   ]
  },
  {
   "cell_type": "code",
   "execution_count": 32,
   "metadata": {},
   "outputs": [],
   "source": [
    "quiz=pd.DataFrame(quiz_table_data)"
   ]
  },
  {
   "cell_type": "code",
   "execution_count": 33,
   "metadata": {},
   "outputs": [],
   "source": [
    "quiz.to_csv(SUBJECT+\"_quiz.csv\",index=False)"
   ]
  },
  {
   "cell_type": "code",
   "execution_count": null,
   "metadata": {},
   "outputs": [],
   "source": []
  }
 ],
 "metadata": {
  "kernelspec": {
   "display_name": "venv",
   "language": "python",
   "name": "python3"
  },
  "language_info": {
   "codemirror_mode": {
    "name": "ipython",
    "version": 3
   },
   "file_extension": ".py",
   "mimetype": "text/x-python",
   "name": "python",
   "nbconvert_exporter": "python",
   "pygments_lexer": "ipython3",
   "version": "3.11.5"
  }
 },
 "nbformat": 4,
 "nbformat_minor": 2
}
